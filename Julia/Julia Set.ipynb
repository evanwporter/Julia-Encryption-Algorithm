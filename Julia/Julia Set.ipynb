{
 "cells": [
  {
   "cell_type": "code",
   "execution_count": null,
   "id": "7e246972",
   "metadata": {},
   "outputs": [],
   "source": [
    "import numpy as np\n",
    "from PIL import Image\n",
    "\n",
    "from functools import partial\n",
    "from numbers import Complex\n",
    "from typing import Callable\n",
    "\n",
    "import matplotlib.pyplot as plt"
   ]
  },
  {
   "cell_type": "code",
   "execution_count": null,
   "id": "55ee4add",
   "metadata": {},
   "outputs": [],
   "source": [
    "c: Complex = -0.7 + 0.27015j\n",
    "\n",
    "def Q(z: Complex, c: Complex) -> Complex:\n",
    "    return z ** (2) + c"
   ]
  },
  {
   "cell_type": "code",
   "execution_count": null,
   "id": "15582ab0",
   "metadata": {},
   "outputs": [],
   "source": [
    "min_coordinate = -.25 - .25j\n",
    "max_coordinate = .25 + .25j\n",
    "iterations_count = 256"
   ]
  },
  {
   "cell_type": "code",
   "execution_count": null,
   "id": "f299b1c7",
   "metadata": {},
   "outputs": [],
   "source": [
    "img_path = r\"frog.jpeg\""
   ]
  },
  {
   "cell_type": "markdown",
   "id": "29929b54",
   "metadata": {},
   "source": [
    "# Julia Set\n",
    "\n",
    "Code shamelessely stolen from [here](https://rosettacode.org/wiki/Julia_set#Vectorized)."
   ]
  },
  {
   "cell_type": "code",
   "execution_count": null,
   "id": "4845af09",
   "metadata": {},
   "outputs": [],
   "source": [
    "def julia_set(mapping: Callable[[Complex], Complex],\n",
    "              *,\n",
    "              min_coordinate: Complex,\n",
    "              max_coordinate: Complex,\n",
    "              width: int,\n",
    "              height: int,\n",
    "              iterations_count: int = 256,\n",
    "              threshold: float = 2.) -> np.ndarray:\n",
    "    \"\"\"\n",
    "    As described in https://en.wikipedia.org/wiki/Julia_set\n",
    "    :param mapping: function defining Julia set\n",
    "    :param min_coordinate: bottom-left complex plane coordinate\n",
    "    :param max_coordinate: upper-right complex plane coordinate\n",
    "    :param height: pixels in vertical axis\n",
    "    :param width: pixels in horizontal axis\n",
    "    :param iterations_count: number of iterations\n",
    "    :param threshold: if the magnitude of z becomes greater\n",
    "    than the threshold we assume that it will diverge to infinity\n",
    "    :return: 2D pixels array of intensities\n",
    "    \"\"\"\n",
    "    im, re = np.ogrid[min_coordinate.imag: max_coordinate.imag: height * 1j,\n",
    "                      min_coordinate.real: max_coordinate.real: width * 1j]\n",
    "    z = (re + 1j * im).flatten()\n",
    "\n",
    "    live, = np.indices(z.shape)  # indexes of pixels that have not escaped\n",
    "    iterations = np.empty_like(z, dtype=int)\n",
    "\n",
    "    for i in range(iterations_count):\n",
    "        z_live = z[live] = mapping(z[live])\n",
    "        escaped = abs(z_live) > threshold\n",
    "        iterations[live[escaped]] = i\n",
    "        live = live[~escaped]\n",
    "        if live.size == 0:\n",
    "            break\n",
    "    else:\n",
    "        iterations[live] = iterations_count\n",
    "\n",
    "    return iterations.reshape((height, width))"
   ]
  },
  {
   "cell_type": "code",
   "execution_count": null,
   "id": "d8292eb5",
   "metadata": {},
   "outputs": [],
   "source": [
    "mapping = partial(Q, c=c)\n",
    "image = julia_set(mapping,\n",
    "                  min_coordinate=min_coordinate,\n",
    "                  max_coordinate=max_coordinate,\n",
    "                  width=108*3,\n",
    "                  height=108,\n",
    "                  iterations_count=iterations_count)"
   ]
  },
  {
   "cell_type": "code",
   "execution_count": null,
   "id": "f745dc09",
   "metadata": {},
   "outputs": [],
   "source": [
    "plt.axis('off')\n",
    "plt.imshow(image,\n",
    "           cmap='nipy_spectral_r',\n",
    "           origin='lower')\n",
    "plt.show()"
   ]
  },
  {
   "cell_type": "code",
   "execution_count": null,
   "id": "18e4ff8a",
   "metadata": {},
   "outputs": [],
   "source": [
    "# Convert plot to numpy array\n",
    "fig, ax = plt.subplots(figsize=(image.shape[1], image.shape[0]), dpi=1)\n",
    "ax.axis('off')\n",
    "ax.imshow(image, cmap='nipy_spectral_r', origin='lower')\n",
    "fig.canvas.draw()\n",
    "image_array = np.frombuffer(fig.canvas.tostring_rgb(), dtype=np.uint8)\n",
    "image_array = image_array.reshape(fig.canvas.get_width_height()[::-1] + (3,))\n",
    "plt.show()\n",
    "print(image_array.shape)"
   ]
  },
  {
   "cell_type": "code",
   "execution_count": null,
   "id": "46734f89",
   "metadata": {},
   "outputs": [],
   "source": [
    "# load the image and convert into numpy array\n",
    "img = Image.open(img_path)\n",
    "frog = np.asarray(img)\n",
    "img\n",
    "# img.resize((128,128), Image.Resampling.LANCZOS)"
   ]
  },
  {
   "cell_type": "markdown",
   "id": "722d66d4",
   "metadata": {},
   "source": [
    "# Encryption"
   ]
  },
  {
   "cell_type": "markdown",
   "id": "f5a46a28",
   "metadata": {},
   "source": [
    "## Encryption"
   ]
  },
  {
   "cell_type": "code",
   "execution_count": null,
   "id": "fe86bcb8",
   "metadata": {},
   "outputs": [],
   "source": [
    "mapping_e = partial(Q, c=c)"
   ]
  },
  {
   "cell_type": "code",
   "execution_count": null,
   "id": "71744fab",
   "metadata": {},
   "outputs": [],
   "source": [
    "height, width, _ = frog.shape\n",
    "julia = julia_set(\n",
    "    mapping_e, \n",
    "    min_coordinate=min_coordinate, \n",
    "    max_coordinate=max_coordinate, \n",
    "    width=width*3, \n",
    "    height=height,\n",
    "    iterations_count=iterations_count\n",
    ").flatten()"
   ]
  },
  {
   "cell_type": "code",
   "execution_count": null,
   "id": "b9564356",
   "metadata": {},
   "outputs": [],
   "source": [
    "encrypted_image = (\n",
    "    (\n",
    "        frog.flatten() + (julia % 256).astype(np.uint8)\n",
    "    ) % 256\n",
    ")[np.argsort(julia)].reshape((height, width, 3))"
   ]
  },
  {
   "cell_type": "markdown",
   "id": "dae28eae",
   "metadata": {},
   "source": [
    "## Decryption"
   ]
  },
  {
   "cell_type": "markdown",
   "id": "ce52beac",
   "metadata": {},
   "source": [
    "(i + j) % x = r\n",
    "then,\n",
    "i = (r - j) % x"
   ]
  },
  {
   "cell_type": "code",
   "execution_count": null,
   "id": "757346cb",
   "metadata": {},
   "outputs": [],
   "source": [
    "mapping_d = partial(Q, c=c)"
   ]
  },
  {
   "cell_type": "code",
   "execution_count": null,
   "id": "2c688bb5",
   "metadata": {},
   "outputs": [],
   "source": [
    "height, width, _ = encrypted_image.shape\n",
    "julia = julia_set(\n",
    "    mapping_d,\n",
    "    min_coordinate=min_coordinate,\n",
    "    max_coordinate=max_coordinate,\n",
    "    width=width*3,\n",
    "    height=height,\n",
    "    iterations_count=iterations_count\n",
    ").flatten()"
   ]
  },
  {
   "cell_type": "code",
   "execution_count": null,
   "id": "b59d6414",
   "metadata": {},
   "outputs": [],
   "source": [
    "decrypted_image = (\n",
    "    (\n",
    "        encrypted_image.flatten()[np.argsort(np.argsort(julia))] - \n",
    "        (julia % 256).astype(np.uint8)\n",
    "    ) % 256       \n",
    ").reshape((height, width, 3))"
   ]
  },
  {
   "cell_type": "markdown",
   "id": "f9dfb75f",
   "metadata": {},
   "source": [
    "# Images"
   ]
  },
  {
   "cell_type": "code",
   "execution_count": null,
   "id": "8be988dd",
   "metadata": {
    "scrolled": true
   },
   "outputs": [],
   "source": [
    "plt.figure(figsize=(12, 4))\n",
    "plt.subplot(1, 3, 1)\n",
    "plt.title(\"Original Image\")\n",
    "plt.imshow(frog)\n",
    "\n",
    "plt.subplot(1, 3, 2)\n",
    "plt.title(\"Encrypted Image\")\n",
    "plt.imshow(encrypted_image)\n",
    "\n",
    "plt.subplot(1, 3, 3)\n",
    "plt.title(\"Decrypted Image\")\n",
    "plt.imshow(decrypted_image)\n",
    "plt.show()"
   ]
  },
  {
   "cell_type": "code",
   "execution_count": 6,
   "id": "e204246f",
   "metadata": {},
   "outputs": [],
   "source": [
    "from jea import *"
   ]
  },
  {
   "cell_type": "code",
   "execution_count": 7,
   "id": "710bba73",
   "metadata": {},
   "outputs": [
    {
     "ename": "NameError",
     "evalue": "name 'frog' is not defined",
     "output_type": "error",
     "traceback": [
      "\u001b[1;31m---------------------------------------------------------------------------\u001b[0m",
      "\u001b[1;31mNameError\u001b[0m                                 Traceback (most recent call last)",
      "Input \u001b[1;32mIn [7]\u001b[0m, in \u001b[0;36m<cell line: 1>\u001b[1;34m()\u001b[0m\n\u001b[1;32m----> 1\u001b[0m encrypt(\u001b[43mfrog\u001b[49m, julia)\n",
      "\u001b[1;31mNameError\u001b[0m: name 'frog' is not defined"
     ]
    }
   ],
   "source": [
    "encrypt(frog, julia)"
   ]
  },
  {
   "cell_type": "code",
   "execution_count": null,
   "id": "316cd95f",
   "metadata": {},
   "outputs": [],
   "source": [
    "decrypted_image = decrypt(encrypt(frog, julia), julia)"
   ]
  },
  {
   "cell_type": "markdown",
   "id": "9a2e63bd",
   "metadata": {},
   "source": [
    "# References\n",
    "1. [Julia set](https://rosettacode.org/wiki/Julia_set#Python)\n",
    "2. [Convert PIL image to numpy array](https://www.geeksforgeeks.org/how-to-convert-images-to-numpy-array/)\n",
    "3. [Convert Matplotlib plot to numpy array](https://www.geeksforgeeks.org/save-plot-to-numpy-array-using-matplotlib/)"
   ]
  }
 ],
 "metadata": {
  "kernelspec": {
   "display_name": "Python 3 (ipykernel)",
   "language": "python",
   "name": "python3"
  },
  "language_info": {
   "codemirror_mode": {
    "name": "ipython",
    "version": 3
   },
   "file_extension": ".py",
   "mimetype": "text/x-python",
   "name": "python",
   "nbconvert_exporter": "python",
   "pygments_lexer": "ipython3",
   "version": "3.9.5"
  }
 },
 "nbformat": 4,
 "nbformat_minor": 5
}
